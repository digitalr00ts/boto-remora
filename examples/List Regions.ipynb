{
 "cells": [
  {
   "cell_type": "markdown",
   "source": [
    "## List Region Names\n",
    "(assumes the `aws` partition)"
   ],
   "metadata": {
    "collapsed": false,
    "pycharm": {
     "name": "#%% md\n"
    }
   }
  },
  {
   "cell_type": "code",
   "execution_count": null,
   "outputs": [],
   "source": [
    "import logging\n",
    "from pprint import pprint\n",
    "\n",
    "import boto_remora\n",
    "\n",
    "logging.basicConfig(level=logging.INFO)"
   ],
   "metadata": {
    "collapsed": false,
    "pycharm": {
     "name": "#%%\n"
    }
   }
  },
  {
   "cell_type": "markdown",
   "source": [
    "### Get names for all regions\n",
    "SSM has the data we need."
   ],
   "metadata": {
    "collapsed": false
   }
  },
  {
   "cell_type": "code",
   "execution_count": 6,
   "outputs": [
    {
     "name": "stderr",
     "text": [
      "INFO:botocore.credentials:Found credentials in shared credentials file: ~/.aws/credentials\n"
     ],
     "output_type": "stream"
    },
    {
     "name": "stdout",
     "text": [
      "{'ap-east-1': 'Asia Pacific (Hong Kong)',\n 'ap-northeast-1': 'Asia Pacific (Tokyo)',\n 'ap-northeast-2': 'Asia Pacific (Seoul)',\n 'ap-northeast-3': 'Asia Pacific (Osaka-Local)',\n 'ap-south-1': 'Asia Pacific (Mumbai)',\n 'ap-southeast-1': 'Asia Pacific (Singapore)',\n 'ap-southeast-2': 'Asia Pacific (Sydney)',\n 'ca-central-1': 'Canada (Central)',\n 'cn-north-1': 'China (Beijing)',\n 'cn-northwest-1': 'China (Ningxia)',\n 'eu-central-1': 'EU (Frankfurt)',\n 'eu-north-1': 'EU (Stockholm)',\n 'eu-west-1': 'EU (Ireland)',\n 'eu-west-2': 'EU (London)',\n 'eu-west-3': 'EU (Paris)',\n 'me-south-1': 'Middle East (Bahrain)',\n 'sa-east-1': 'South America (Sao Paulo)',\n 'us-east-1': 'US East (N. Virginia)',\n 'us-east-2': 'US East (Ohio)',\n 'us-gov-east-1': 'AWS GovCloud (US-East)',\n 'us-gov-west-1': 'AWS GovCloud (US)',\n 'us-iso-east-1': 'US ISO East',\n 'us-isob-east-1': 'US ISOB East (Ohio)',\n 'us-west-1': 'US West (N. California)',\n 'us-west-2': 'US West (Oregon)'}\n"
     ],
     "output_type": "stream"
    }
   ],
   "source": [
    "aws_pricing = boto_remora.aws.Ssm(\"test-account\", region_name=\"us-east-1\")\n",
    "aws_region_names = aws_pricing.get_regions()\n",
    "pprint(aws_region_names)"
   ],
   "metadata": {
    "collapsed": false,
    "pycharm": {
     "name": "#%%\n",
     "is_executing": false
    }
   }
  },
  {
   "cell_type": "markdown",
   "source": [
    "### Get EC2 available regions"
   ],
   "metadata": {
    "collapsed": false
   }
  },
  {
   "cell_type": "code",
   "execution_count": 7,
   "outputs": [
    {
     "name": "stderr",
     "text": [
      "INFO:botocore.credentials:Found credentials in shared credentials file: ~/.aws/credentials\n"
     ],
     "output_type": "stream"
    },
    {
     "name": "stdout",
     "text": [
      "frozenset({'ap-northeast-1',\n           'ap-northeast-2',\n           'ap-south-1',\n           'ap-southeast-1',\n           'ap-southeast-2',\n           'ca-central-1',\n           'eu-central-1',\n           'eu-north-1',\n           'eu-west-1',\n           'eu-west-2',\n           'eu-west-3',\n           'sa-east-1',\n           'us-east-1',\n           'us-east-2',\n           'us-west-1',\n           'us-west-2'})\n"
     ],
     "output_type": "stream"
    }
   ],
   "source": [
    "aws_ec2 = boto_remora.aws.Ec2(\"test-account\", region_name=\"us-east-1\")\n",
    "pprint(aws_ec2.available_regions)"
   ],
   "metadata": {
    "collapsed": false,
    "pycharm": {
     "name": "#%%\n",
     "is_executing": false
    }
   }
  },
  {
   "cell_type": "markdown",
   "source": [
    "### Only names of available regions"
   ],
   "metadata": {
    "collapsed": false
   }
  },
  {
   "cell_type": "code",
   "execution_count": 14,
   "outputs": [],
   "source": [
    "# A map is used instead of a filter to prevent accidentally skipping an available region\n",
    "ec2_region_names = dict(map(lambda name: (name, aws_region_names.get(name)), aws_ec2.available_regions))\n",
    "\n",
    "if not all(ec2_region_names):\n",
    "    logging.error(\"Missing names for: %s\", set(dict(filter(lambda name: name[1], ec2_region_names.items()))))"
   ],
   "metadata": {
    "collapsed": false,
    "pycharm": {
     "name": "#%%\n",
     "is_executing": false
    }
   }
  },
  {
   "cell_type": "code",
   "execution_count": null,
   "outputs": [],
   "source": [
    "\n"
   ],
   "metadata": {
    "collapsed": false,
    "pycharm": {
     "name": "#%%\n"
    }
   }
  }
 ],
 "metadata": {
  "kernelspec": {
   "display_name": "Python 3",
   "language": "python",
   "name": "python3"
  },
  "language_info": {
   "codemirror_mode": {
    "name": "ipython",
    "version": 3
   },
   "file_extension": ".py",
   "mimetype": "text/x-python",
   "name": "python",
   "nbconvert_exporter": "python",
   "pygments_lexer": "ipython3",
   "version": "3.7.3"
  },
  "pycharm": {
   "stem_cell": {
    "cell_type": "raw",
    "source": [],
    "metadata": {
     "collapsed": false
    }
   }
  }
 },
 "nbformat": 4,
 "nbformat_minor": 2
}