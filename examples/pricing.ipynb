{
 "cells": [
  {
   "cell_type": "markdown",
   "metadata": {
    "toc": true
   },
   "source": [
    "<h1>Table of Contents<span class=\"tocSkip\"></span></h1>\n",
    "<div class=\"toc\"><ul class=\"toc-item\"><li><span><a href=\"#Create-AwsService-Object-for-Pricing\" data-toc-modified-id=\"Create-AwsService-Object-for-Pricing-1\"><span class=\"toc-item-num\">1&nbsp;&nbsp;</span>Create AwsService Object for Pricing</a></span></li><li><span><a href=\"#Get-Offers\" data-toc-modified-id=\"Get-Offers-2\"><span class=\"toc-item-num\">2&nbsp;&nbsp;</span>Get Offers</a></span></li><li><span><a href=\"#Display-Offers-and-an-Offer\" data-toc-modified-id=\"Display-Offers-and-an-Offer-3\"><span class=\"toc-item-num\">3&nbsp;&nbsp;</span>Display Offers and an Offer</a></span></li><li><span><a href=\"#Looking-Up-Prices-Is-Easy-Now\" data-toc-modified-id=\"Looking-Up-Prices-Is-Easy-Now-4\"><span class=\"toc-item-num\">4&nbsp;&nbsp;</span>Looking Up Prices Is Easy Now</a></span></li></ul></div>"
   ]
  },
  {
   "cell_type": "code",
   "execution_count": 1,
   "metadata": {
    "ExecuteTime": {
     "end_time": "2019-10-15T02:16:56.758778Z",
     "start_time": "2019-10-15T02:16:56.756530Z"
    }
   },
   "outputs": [],
   "source": [
    "import logging\n",
    "logging.basicConfig(level=logging.INFO)"
   ]
  },
  {
   "cell_type": "code",
   "execution_count": 2,
   "metadata": {
    "ExecuteTime": {
     "end_time": "2019-10-15T02:16:56.909869Z",
     "start_time": "2019-10-15T02:16:56.761035Z"
    }
   },
   "outputs": [],
   "source": []
  },
  {
   "cell_type": "markdown",
   "metadata": {},
   "source": [
    "## Create AwsService Object for Pricing"
   ]
  },
  {
   "cell_type": "code",
   "execution_count": 3,
   "metadata": {
    "ExecuteTime": {
     "end_time": "2019-10-15T02:16:57.638357Z",
     "start_time": "2019-10-15T02:16:56.911216Z"
    }
   },
   "outputs": [
    {
     "name": "stderr",
     "output_type": "stream",
     "text": [
      "INFO:botocore.credentials:Found credentials in shared credentials file: ~/.aws/credentials\n",
      "INFO:botocore.credentials:Found credentials in shared credentials file: ~/.aws/credentials\n"
     ]
    }
   ],
   "source": [
    "aws_pricing = boto_remora.aws.Pricing(\"test-account\")"
   ]
  },
  {
   "cell_type": "markdown",
   "metadata": {},
   "source": [
    "## Get Offers\n",
    "`Offers` is composed of a list of `Offer` objects, a `AwsPricing`, and a `ResourceKey`."
   ]
  },
  {
   "cell_type": "code",
   "execution_count": 4,
   "metadata": {
    "ExecuteTime": {
     "end_time": "2019-10-15T02:16:58.147261Z",
     "start_time": "2019-10-15T02:16:57.640035Z"
    }
   },
   "outputs": [],
   "source": [
    "ebs = boto_remora.pricing.Offers(\"EBS\", aws_pricing)"
   ]
  },
  {
   "cell_type": "markdown",
   "metadata": {},
   "source": [
    "## Display Offers and an Offer\n",
    "The magic is based on `RESOURCE_KEYS`."
   ]
  },
  {
   "cell_type": "code",
   "execution_count": 5,
   "metadata": {
    "ExecuteTime": {
     "end_time": "2019-10-15T02:16:58.151748Z",
     "start_time": "2019-10-15T02:16:58.148565Z"
    }
   },
   "outputs": [
    {
     "name": "stdout",
     "output_type": "stream",
     "text": [
      "Offers(resource_type='EBS', aws_client=AwsPricing(profile_name='twds-legacy', region_name='us-east-1', service_name='pricing', filter_keys=('Field', 'Value')), currency='USD', resource_key=ResourceKey(servicecode='AmazonEC2', productFamily='Storage', unique_key='volumeType'))\n",
      "\n",
      "Offer(unit='GB-Mo', description='$0.05 per GB-month of Magnetic provisioned storage - US East (Northern Virginia)', attributes={'storageMedia': 'HDD-backed', 'maxThroughputvolume': '40 - 90 MB/sec', 'volumeType': 'Magnetic', 'maxIopsvolume': '40 - 200', 'servicecode': 'AmazonEC2', 'usagetype': 'EBS:VolumeUsage', 'locationType': 'AWS Region', 'location': 'US East (N. Virginia)', 'servicename': 'Amazon Elastic Compute Cloud', 'maxVolumeSize': '1 TiB', 'operation': '', 'maxIopsBurstPerformance': 'Hundreds'}, productFamily='Storage', currency='USD', prices={'OnDemand': '0.0500000000'}, region='us-east-1', serviceCode='AmazonEC2')\n"
     ]
    }
   ],
   "source": [
    "print(f\"{ebs}\\n\\n{ebs.offers[0]}\")"
   ]
  },
  {
   "cell_type": "markdown",
   "metadata": {},
   "source": [
    "## Looking Up Prices Is Easy Now"
   ]
  },
  {
   "cell_type": "code",
   "execution_count": 8,
   "metadata": {
    "ExecuteTime": {
     "end_time": "2019-10-15T02:17:17.001725Z",
     "start_time": "2019-10-15T02:17:16.986097Z"
    }
   },
   "outputs": [
    {
     "name": "stdout",
     "output_type": "stream",
     "text": [
      "{'ap-east-1': {'Cold HDD': '0.0330000000',\n",
      "               'General Purpose': '0.1320000000',\n",
      "               'Magnetic': '0.0880000000',\n",
      "               'Throughput Optimized HDD': '0.0594000000'},\n",
      " 'ap-northeast-1': {'Cold HDD': '0.0300000000',\n",
      "                    'General Purpose': '0.1200000000',\n",
      "                    'Magnetic': '0.0800000000',\n",
      "                    'Provisioned IOPS': '0.1420000000',\n",
      "                    'Throughput Optimized HDD': '0.0540000000'},\n",
      " 'ap-northeast-2': {'Cold HDD': '0.0290000000',\n",
      "                    'General Purpose': '0.1140000000',\n",
      "                    'Magnetic': '0.0800000000',\n",
      "                    'Provisioned IOPS': '0.1278000000',\n",
      "                    'Throughput Optimized HDD': '0.0510000000'},\n",
      " 'ap-northeast-3': {'Cold HDD': '0.0300000000',\n",
      "                    'General Purpose': '0.1200000000',\n",
      "                    'Magnetic': '0.0800000000',\n",
      "                    'Provisioned IOPS': '0.1420000000',\n",
      "                    'Throughput Optimized HDD': '0.0540000000'},\n",
      " 'ap-south-1': {'Cold HDD': '0.0290000000',\n",
      "                'General Purpose': '0.1140000000',\n",
      "                'Magnetic': '0.0800000000',\n",
      "                'Provisioned IOPS': '0.1310000000',\n",
      "                'Throughput Optimized HDD': '0.0510000000'},\n",
      " 'ap-southeast-1': {'Cold HDD': '0.0300000000',\n",
      "                    'General Purpose': '0.1200000000',\n",
      "                    'Magnetic': '0.0800000000',\n",
      "                    'Provisioned IOPS': '0.1380000000',\n",
      "                    'Throughput Optimized HDD': '0.0540000000'},\n",
      " 'ap-southeast-2': {'Cold HDD': '0.0300000000',\n",
      "                    'General Purpose': '0.1200000000',\n",
      "                    'Magnetic': '0.0800000000',\n",
      "                    'Provisioned IOPS': '0.1380000000',\n",
      "                    'Throughput Optimized HDD': '0.0540000000'},\n",
      " 'ca-central-1': {'Cold HDD': '0.0280000000',\n",
      "                  'General Purpose': '0.1100000000',\n",
      "                  'Magnetic': '0.0550000000',\n",
      "                  'Provisioned IOPS': '0.1380000000',\n",
      "                  'Throughput Optimized HDD': '0.0500000000'},\n",
      " 'eu-central-1': {'General Purpose': '0.1190000000',\n",
      "                  'Magnetic': '0.0590000000',\n",
      "                  'Provisioned IOPS': '0.1490000000',\n",
      "                  'Throughput Optimized HDD': '0.0540000000'},\n",
      " 'eu-north-1': {'Cold HDD': '0.0266000000',\n",
      "                'General Purpose': '0.1045000000',\n",
      "                'Magnetic': '0.0522500000',\n",
      "                'Provisioned IOPS': '0.1311000000',\n",
      "                'Throughput Optimized HDD': '0.0475000000'},\n",
      " 'eu-west-1': {'Cold HDD': '0.0280000000',\n",
      "               'General Purpose': '0.1100000000',\n",
      "               'Magnetic': '0.0550000000',\n",
      "               'Provisioned IOPS': '0.1380000000',\n",
      "               'Throughput Optimized HDD': '0.0500000000'},\n",
      " 'eu-west-2': {'General Purpose': '0.1160000000',\n",
      "               'Magnetic': '0.0580000000',\n",
      "               'Provisioned IOPS': '0.1450000000',\n",
      "               'Throughput Optimized HDD': '0.0530000000'},\n",
      " 'eu-west-3': {'Cold HDD': '0.0290000000',\n",
      "               'General Purpose': '0.1160000000',\n",
      "               'Magnetic': '0.0580000000',\n",
      "               'Provisioned IOPS': '0.1450000000',\n",
      "               'Throughput Optimized HDD': '0.0530000000'},\n",
      " 'me-south-1': {'Cold HDD': '0.0308000000',\n",
      "                'General Purpose': '0.1210000000',\n",
      "                'Magnetic': '0.0605000000',\n",
      "                'Provisioned IOPS': '0.1518000000',\n",
      "                'Throughput Optimized HDD': '0.0550000000'},\n",
      " 'sa-east-1': {'Cold HDD': '0.0480000000',\n",
      "               'General Purpose': '0.1900000000',\n",
      "               'Magnetic': '0.1200000000',\n",
      "               'Provisioned IOPS': '0.2380000000',\n",
      "               'Throughput Optimized HDD': '0.0860000000'},\n",
      " 'us-east-1': {'Cold HDD': '0.0250000000',\n",
      "               'General Purpose': '0.1000000000',\n",
      "               'Magnetic': '0.0500000000',\n",
      "               'Provisioned IOPS': '0.1250000000'},\n",
      " 'us-east-2': {'Cold HDD': '0.0250000000',\n",
      "               'General Purpose': '0.1000000000',\n",
      "               'Magnetic': '0.0500000000',\n",
      "               'Provisioned IOPS': '0.1250000000',\n",
      "               'Throughput Optimized HDD': '0.0450000000'},\n",
      " 'us-gov-east-1': {'Cold HDD': '0.0300000000',\n",
      "                   'General Purpose': '0.1200000000',\n",
      "                   'Magnetic': '0.0650000000',\n",
      "                   'Provisioned IOPS': '0.1500000000',\n",
      "                   'Throughput Optimized HDD': '0.0540000000'},\n",
      " 'us-gov-west-1': {'Cold HDD': '0.0300000000',\n",
      "                   'General Purpose': '0.1200000000',\n",
      "                   'Magnetic': '0.0650000000',\n",
      "                   'Provisioned IOPS': '0.1500000000',\n",
      "                   'Throughput Optimized HDD': '0.0540000000'},\n",
      " 'us-west-1': {'General Purpose': '0.1200000000',\n",
      "               'Magnetic': '0.0800000000',\n",
      "               'Provisioned IOPS': '0.1380000000',\n",
      "               'Throughput Optimized HDD': '0.0540000000'},\n",
      " 'us-west-2': {'Cold HDD': '0.0250000000',\n",
      "               'General Purpose': '0.1000000000',\n",
      "               'Magnetic': '0.0500000000',\n",
      "               'Provisioned IOPS': '0.1250000000',\n",
      "               'Throughput Optimized HDD': '0.0450000000'}}\n"
     ]
    }
   ],
   "source": [
    "from pprint import pprint\n",
    "pprint(ebs.prices_by_index())"
   ]
  },
  {
   "cell_type": "code",
   "execution_count": null,
   "metadata": {},
   "outputs": [],
   "source": []
  }
 ],
 "metadata": {
  "kernelspec": {
   "display_name": "Python 3",
   "language": "python",
   "name": "python3"
  },
  "language_info": {
   "codemirror_mode": {
    "name": "ipython",
    "version": 3
   },
   "file_extension": ".py",
   "mimetype": "text/x-python",
   "name": "python",
   "nbconvert_exporter": "python",
   "pygments_lexer": "ipython3",
   "version": "3.7.3"
  },
  "toc": {
   "base_numbering": 1,
   "nav_menu": {},
   "number_sections": true,
   "sideBar": true,
   "skip_h1_title": true,
   "title_cell": "Table of Contents",
   "title_sidebar": "Contents",
   "toc_cell": true,
   "toc_position": {
    "height": "calc(100% - 180px)",
    "left": "10px",
    "top": "150px",
    "width": "336px"
   },
   "toc_section_display": true,
   "toc_window_display": true
  },
  "varInspector": {
   "cols": {
    "lenName": 16,
    "lenType": 16,
    "lenVar": 40
   },
   "kernels_config": {
    "python": {
     "delete_cmd_postfix": "",
     "delete_cmd_prefix": "del ",
     "library": "var_list.py",
     "varRefreshCmd": "print(var_dic_list())"
    },
    "r": {
     "delete_cmd_postfix": ") ",
     "delete_cmd_prefix": "rm(",
     "library": "var_list.r",
     "varRefreshCmd": "cat(var_dic_list()) "
    }
   },
   "types_to_exclude": [
    "module",
    "function",
    "builtin_function_or_method",
    "instance",
    "_Feature"
   ],
   "window_display": false
  },
  "pycharm": {
   "stem_cell": {
    "cell_type": "raw",
    "source": [],
    "metadata": {
     "collapsed": false
    }
   }
  }
 },
 "nbformat": 4,
 "nbformat_minor": 2
}